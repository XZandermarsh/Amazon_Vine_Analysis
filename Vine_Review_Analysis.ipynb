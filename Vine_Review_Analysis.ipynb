{
 "metadata": {
  "language_info": {
   "codemirror_mode": {
    "name": "ipython",
    "version": 3
   },
   "file_extension": ".py",
   "mimetype": "text/x-python",
   "name": "python",
   "nbconvert_exporter": "python",
   "pygments_lexer": "ipython3",
   "version": "3.8.3-final"
  },
  "orig_nbformat": 2,
  "kernelspec": {
   "name": "python3",
   "display_name": "Python 3",
   "language": "python"
  }
 },
 "nbformat": 4,
 "nbformat_minor": 2,
 "cells": [
  {
   "cell_type": "code",
   "execution_count": 1,
   "metadata": {},
   "outputs": [],
   "source": [
    "# Import Dependencies\n",
    "import pandas as pd"
   ]
  },
  {
   "cell_type": "code",
   "execution_count": 2,
   "metadata": {},
   "outputs": [
    {
     "output_type": "execute_result",
     "data": {
      "text/plain": [
       "             review_id  star_rating  helpful_votes  total_votes vine  \\\n",
       "0       R3VR960AHLFKDV            4              0            0    N   \n",
       "1       R16LGVMFKIUT0G            5              0            0    N   \n",
       "2       R1AIMEEPYHMOE4            5              1            1    N   \n",
       "3       R1892CCSZWZ9SR            3              0            0    N   \n",
       "4       R285P679YWVKD1            3              0            0    N   \n",
       "...                ...          ...            ...          ...  ...   \n",
       "792108  R1F7BNIK2R72ZC            5             21           21    N   \n",
       "792109   RVR3U3QA0D95B            5             10           11    N   \n",
       "792110  R1X5JB9UJRZW31            5              3            5    N   \n",
       "792111  R235PHRTF7BFK7            4              5            5    N   \n",
       "792112   RZ0Y9U30658TB            5              5            6    N   \n",
       "\n",
       "       verified_purchase  \n",
       "0                      Y  \n",
       "1                      Y  \n",
       "2                      Y  \n",
       "3                      Y  \n",
       "4                      N  \n",
       "...                  ...  \n",
       "792108                 N  \n",
       "792109                 N  \n",
       "792110                 N  \n",
       "792111                 N  \n",
       "792112                 N  \n",
       "\n",
       "[792113 rows x 6 columns]"
      ],
      "text/html": "<div>\n<style scoped>\n    .dataframe tbody tr th:only-of-type {\n        vertical-align: middle;\n    }\n\n    .dataframe tbody tr th {\n        vertical-align: top;\n    }\n\n    .dataframe thead th {\n        text-align: right;\n    }\n</style>\n<table border=\"1\" class=\"dataframe\">\n  <thead>\n    <tr style=\"text-align: right;\">\n      <th></th>\n      <th>review_id</th>\n      <th>star_rating</th>\n      <th>helpful_votes</th>\n      <th>total_votes</th>\n      <th>vine</th>\n      <th>verified_purchase</th>\n    </tr>\n  </thead>\n  <tbody>\n    <tr>\n      <th>0</th>\n      <td>R3VR960AHLFKDV</td>\n      <td>4</td>\n      <td>0</td>\n      <td>0</td>\n      <td>N</td>\n      <td>Y</td>\n    </tr>\n    <tr>\n      <th>1</th>\n      <td>R16LGVMFKIUT0G</td>\n      <td>5</td>\n      <td>0</td>\n      <td>0</td>\n      <td>N</td>\n      <td>Y</td>\n    </tr>\n    <tr>\n      <th>2</th>\n      <td>R1AIMEEPYHMOE4</td>\n      <td>5</td>\n      <td>1</td>\n      <td>1</td>\n      <td>N</td>\n      <td>Y</td>\n    </tr>\n    <tr>\n      <th>3</th>\n      <td>R1892CCSZWZ9SR</td>\n      <td>3</td>\n      <td>0</td>\n      <td>0</td>\n      <td>N</td>\n      <td>Y</td>\n    </tr>\n    <tr>\n      <th>4</th>\n      <td>R285P679YWVKD1</td>\n      <td>3</td>\n      <td>0</td>\n      <td>0</td>\n      <td>N</td>\n      <td>N</td>\n    </tr>\n    <tr>\n      <th>...</th>\n      <td>...</td>\n      <td>...</td>\n      <td>...</td>\n      <td>...</td>\n      <td>...</td>\n      <td>...</td>\n    </tr>\n    <tr>\n      <th>792108</th>\n      <td>R1F7BNIK2R72ZC</td>\n      <td>5</td>\n      <td>21</td>\n      <td>21</td>\n      <td>N</td>\n      <td>N</td>\n    </tr>\n    <tr>\n      <th>792109</th>\n      <td>RVR3U3QA0D95B</td>\n      <td>5</td>\n      <td>10</td>\n      <td>11</td>\n      <td>N</td>\n      <td>N</td>\n    </tr>\n    <tr>\n      <th>792110</th>\n      <td>R1X5JB9UJRZW31</td>\n      <td>5</td>\n      <td>3</td>\n      <td>5</td>\n      <td>N</td>\n      <td>N</td>\n    </tr>\n    <tr>\n      <th>792111</th>\n      <td>R235PHRTF7BFK7</td>\n      <td>4</td>\n      <td>5</td>\n      <td>5</td>\n      <td>N</td>\n      <td>N</td>\n    </tr>\n    <tr>\n      <th>792112</th>\n      <td>RZ0Y9U30658TB</td>\n      <td>5</td>\n      <td>5</td>\n      <td>6</td>\n      <td>N</td>\n      <td>N</td>\n    </tr>\n  </tbody>\n</table>\n<p>792113 rows × 6 columns</p>\n</div>"
     },
     "metadata": {},
     "execution_count": 2
    }
   ],
   "source": [
    "# Import .csv file with review data as new dataframe\n",
    "vine_df = pd.read_csv(\"vine_table.csv\")\n",
    "vine_df"
   ]
  },
  {
   "cell_type": "code",
   "execution_count": 4,
   "metadata": {},
   "outputs": [
    {
     "output_type": "execute_result",
     "data": {
      "text/plain": [
       "             review_id  star_rating  helpful_votes  total_votes vine  \\\n",
       "73       RL8D0KJ0J9L0O            5            152          165    N   \n",
       "157     R1BEINAIQFBRJC            5             21           23    N   \n",
       "190     R2L59KIJH302P9            4             26           26    N   \n",
       "221      RR99CPG695T0I            5            215          248    N   \n",
       "237     R1XQNKKUPCMWVO            5             43           44    N   \n",
       "...                ...          ...            ...          ...  ...   \n",
       "792079  R1HWY1Z29N8XUU            4             29           30    N   \n",
       "792086  R1OBNEXHLWO188            5             59           59    N   \n",
       "792091   R3A76JWPT014A            5             31           35    N   \n",
       "792101   R15YY6Z5KN7F9            5             44           45    N   \n",
       "792108  R1F7BNIK2R72ZC            5             21           21    N   \n",
       "\n",
       "       verified_purchase  \n",
       "73                     Y  \n",
       "157                    Y  \n",
       "190                    Y  \n",
       "221                    N  \n",
       "237                    Y  \n",
       "...                  ...  \n",
       "792079                 N  \n",
       "792086                 Y  \n",
       "792091                 N  \n",
       "792101                 N  \n",
       "792108                 N  \n",
       "\n",
       "[18739 rows x 6 columns]"
      ],
      "text/html": "<div>\n<style scoped>\n    .dataframe tbody tr th:only-of-type {\n        vertical-align: middle;\n    }\n\n    .dataframe tbody tr th {\n        vertical-align: top;\n    }\n\n    .dataframe thead th {\n        text-align: right;\n    }\n</style>\n<table border=\"1\" class=\"dataframe\">\n  <thead>\n    <tr style=\"text-align: right;\">\n      <th></th>\n      <th>review_id</th>\n      <th>star_rating</th>\n      <th>helpful_votes</th>\n      <th>total_votes</th>\n      <th>vine</th>\n      <th>verified_purchase</th>\n    </tr>\n  </thead>\n  <tbody>\n    <tr>\n      <th>73</th>\n      <td>RL8D0KJ0J9L0O</td>\n      <td>5</td>\n      <td>152</td>\n      <td>165</td>\n      <td>N</td>\n      <td>Y</td>\n    </tr>\n    <tr>\n      <th>157</th>\n      <td>R1BEINAIQFBRJC</td>\n      <td>5</td>\n      <td>21</td>\n      <td>23</td>\n      <td>N</td>\n      <td>Y</td>\n    </tr>\n    <tr>\n      <th>190</th>\n      <td>R2L59KIJH302P9</td>\n      <td>4</td>\n      <td>26</td>\n      <td>26</td>\n      <td>N</td>\n      <td>Y</td>\n    </tr>\n    <tr>\n      <th>221</th>\n      <td>RR99CPG695T0I</td>\n      <td>5</td>\n      <td>215</td>\n      <td>248</td>\n      <td>N</td>\n      <td>N</td>\n    </tr>\n    <tr>\n      <th>237</th>\n      <td>R1XQNKKUPCMWVO</td>\n      <td>5</td>\n      <td>43</td>\n      <td>44</td>\n      <td>N</td>\n      <td>Y</td>\n    </tr>\n    <tr>\n      <th>...</th>\n      <td>...</td>\n      <td>...</td>\n      <td>...</td>\n      <td>...</td>\n      <td>...</td>\n      <td>...</td>\n    </tr>\n    <tr>\n      <th>792079</th>\n      <td>R1HWY1Z29N8XUU</td>\n      <td>4</td>\n      <td>29</td>\n      <td>30</td>\n      <td>N</td>\n      <td>N</td>\n    </tr>\n    <tr>\n      <th>792086</th>\n      <td>R1OBNEXHLWO188</td>\n      <td>5</td>\n      <td>59</td>\n      <td>59</td>\n      <td>N</td>\n      <td>Y</td>\n    </tr>\n    <tr>\n      <th>792091</th>\n      <td>R3A76JWPT014A</td>\n      <td>5</td>\n      <td>31</td>\n      <td>35</td>\n      <td>N</td>\n      <td>N</td>\n    </tr>\n    <tr>\n      <th>792101</th>\n      <td>R15YY6Z5KN7F9</td>\n      <td>5</td>\n      <td>44</td>\n      <td>45</td>\n      <td>N</td>\n      <td>N</td>\n    </tr>\n    <tr>\n      <th>792108</th>\n      <td>R1F7BNIK2R72ZC</td>\n      <td>5</td>\n      <td>21</td>\n      <td>21</td>\n      <td>N</td>\n      <td>N</td>\n    </tr>\n  </tbody>\n</table>\n<p>18739 rows × 6 columns</p>\n</div>"
     },
     "metadata": {},
     "execution_count": 4
    }
   ],
   "source": [
    "# Create new filtered dataframe with only reviews with 20+ votes\n",
    "filtered_vine_df = vine_df[(vine_df.total_votes>=20)]\n",
    "filtered_vine_df"
   ]
  },
  {
   "cell_type": "code",
   "execution_count": 7,
   "metadata": {},
   "outputs": [
    {
     "output_type": "execute_result",
     "data": {
      "text/plain": [
       "             review_id  star_rating  helpful_votes  total_votes vine  \\\n",
       "73       RL8D0KJ0J9L0O            5            152          165    N   \n",
       "157     R1BEINAIQFBRJC            5             21           23    N   \n",
       "190     R2L59KIJH302P9            4             26           26    N   \n",
       "221      RR99CPG695T0I            5            215          248    N   \n",
       "237     R1XQNKKUPCMWVO            5             43           44    N   \n",
       "...                ...          ...            ...          ...  ...   \n",
       "792079  R1HWY1Z29N8XUU            4             29           30    N   \n",
       "792086  R1OBNEXHLWO188            5             59           59    N   \n",
       "792091   R3A76JWPT014A            5             31           35    N   \n",
       "792101   R15YY6Z5KN7F9            5             44           45    N   \n",
       "792108  R1F7BNIK2R72ZC            5             21           21    N   \n",
       "\n",
       "       verified_purchase  \n",
       "73                     Y  \n",
       "157                    Y  \n",
       "190                    Y  \n",
       "221                    N  \n",
       "237                    Y  \n",
       "...                  ...  \n",
       "792079                 N  \n",
       "792086                 Y  \n",
       "792091                 N  \n",
       "792101                 N  \n",
       "792108                 N  \n",
       "\n",
       "[18155 rows x 6 columns]"
      ],
      "text/html": "<div>\n<style scoped>\n    .dataframe tbody tr th:only-of-type {\n        vertical-align: middle;\n    }\n\n    .dataframe tbody tr th {\n        vertical-align: top;\n    }\n\n    .dataframe thead th {\n        text-align: right;\n    }\n</style>\n<table border=\"1\" class=\"dataframe\">\n  <thead>\n    <tr style=\"text-align: right;\">\n      <th></th>\n      <th>review_id</th>\n      <th>star_rating</th>\n      <th>helpful_votes</th>\n      <th>total_votes</th>\n      <th>vine</th>\n      <th>verified_purchase</th>\n    </tr>\n  </thead>\n  <tbody>\n    <tr>\n      <th>73</th>\n      <td>RL8D0KJ0J9L0O</td>\n      <td>5</td>\n      <td>152</td>\n      <td>165</td>\n      <td>N</td>\n      <td>Y</td>\n    </tr>\n    <tr>\n      <th>157</th>\n      <td>R1BEINAIQFBRJC</td>\n      <td>5</td>\n      <td>21</td>\n      <td>23</td>\n      <td>N</td>\n      <td>Y</td>\n    </tr>\n    <tr>\n      <th>190</th>\n      <td>R2L59KIJH302P9</td>\n      <td>4</td>\n      <td>26</td>\n      <td>26</td>\n      <td>N</td>\n      <td>Y</td>\n    </tr>\n    <tr>\n      <th>221</th>\n      <td>RR99CPG695T0I</td>\n      <td>5</td>\n      <td>215</td>\n      <td>248</td>\n      <td>N</td>\n      <td>N</td>\n    </tr>\n    <tr>\n      <th>237</th>\n      <td>R1XQNKKUPCMWVO</td>\n      <td>5</td>\n      <td>43</td>\n      <td>44</td>\n      <td>N</td>\n      <td>Y</td>\n    </tr>\n    <tr>\n      <th>...</th>\n      <td>...</td>\n      <td>...</td>\n      <td>...</td>\n      <td>...</td>\n      <td>...</td>\n      <td>...</td>\n    </tr>\n    <tr>\n      <th>792079</th>\n      <td>R1HWY1Z29N8XUU</td>\n      <td>4</td>\n      <td>29</td>\n      <td>30</td>\n      <td>N</td>\n      <td>N</td>\n    </tr>\n    <tr>\n      <th>792086</th>\n      <td>R1OBNEXHLWO188</td>\n      <td>5</td>\n      <td>59</td>\n      <td>59</td>\n      <td>N</td>\n      <td>Y</td>\n    </tr>\n    <tr>\n      <th>792091</th>\n      <td>R3A76JWPT014A</td>\n      <td>5</td>\n      <td>31</td>\n      <td>35</td>\n      <td>N</td>\n      <td>N</td>\n    </tr>\n    <tr>\n      <th>792101</th>\n      <td>R15YY6Z5KN7F9</td>\n      <td>5</td>\n      <td>44</td>\n      <td>45</td>\n      <td>N</td>\n      <td>N</td>\n    </tr>\n    <tr>\n      <th>792108</th>\n      <td>R1F7BNIK2R72ZC</td>\n      <td>5</td>\n      <td>21</td>\n      <td>21</td>\n      <td>N</td>\n      <td>N</td>\n    </tr>\n  </tbody>\n</table>\n<p>18155 rows × 6 columns</p>\n</div>"
     },
     "metadata": {},
     "execution_count": 7
    }
   ],
   "source": [
    "# Filter out review that are less than 50% helpful votes and set equal to new dataframe\n",
    "helpful_vine_df = filtered_vine_df[((filtered_vine_df.helpful_votes/filtered_vine_df.total_votes)>=0.5)]\n",
    "helpful_vine_df"
   ]
  },
  {
   "cell_type": "code",
   "execution_count": 9,
   "metadata": {},
   "outputs": [
    {
     "output_type": "execute_result",
     "data": {
      "text/plain": [
       "             review_id  star_rating  helpful_votes  total_votes vine  \\\n",
       "5408    R2BQOD1R0228FN            3             17           26    Y   \n",
       "8246     RC31RUPFOHBHQ            4            102          117    Y   \n",
       "12219    REN3N1WITLF1Y            5             33           37    Y   \n",
       "13330    R71RZQ9UZVG47            4             38           47    Y   \n",
       "16942   R38NMQBH88HLM6            4             18           24    Y   \n",
       "...                ...          ...            ...          ...  ...   \n",
       "763326  R2QLL1VI9MRY2W            4            768          783    Y   \n",
       "763464  R15S9ONTV908AJ            4             21           24    Y   \n",
       "763976  R3E85BMKO2AWUP            4            155          177    Y   \n",
       "764209   RGNC5HFA9IZ5V            5             59           63    Y   \n",
       "764564  R142W0FDRAM7WE            5             99          111    Y   \n",
       "\n",
       "       verified_purchase  \n",
       "5408                   N  \n",
       "8246                   N  \n",
       "12219                  N  \n",
       "13330                  N  \n",
       "16942                  N  \n",
       "...                  ...  \n",
       "763326                 N  \n",
       "763464                 N  \n",
       "763976                 N  \n",
       "764209                 N  \n",
       "764564                 N  \n",
       "\n",
       "[136 rows x 6 columns]"
      ],
      "text/html": "<div>\n<style scoped>\n    .dataframe tbody tr th:only-of-type {\n        vertical-align: middle;\n    }\n\n    .dataframe tbody tr th {\n        vertical-align: top;\n    }\n\n    .dataframe thead th {\n        text-align: right;\n    }\n</style>\n<table border=\"1\" class=\"dataframe\">\n  <thead>\n    <tr style=\"text-align: right;\">\n      <th></th>\n      <th>review_id</th>\n      <th>star_rating</th>\n      <th>helpful_votes</th>\n      <th>total_votes</th>\n      <th>vine</th>\n      <th>verified_purchase</th>\n    </tr>\n  </thead>\n  <tbody>\n    <tr>\n      <th>5408</th>\n      <td>R2BQOD1R0228FN</td>\n      <td>3</td>\n      <td>17</td>\n      <td>26</td>\n      <td>Y</td>\n      <td>N</td>\n    </tr>\n    <tr>\n      <th>8246</th>\n      <td>RC31RUPFOHBHQ</td>\n      <td>4</td>\n      <td>102</td>\n      <td>117</td>\n      <td>Y</td>\n      <td>N</td>\n    </tr>\n    <tr>\n      <th>12219</th>\n      <td>REN3N1WITLF1Y</td>\n      <td>5</td>\n      <td>33</td>\n      <td>37</td>\n      <td>Y</td>\n      <td>N</td>\n    </tr>\n    <tr>\n      <th>13330</th>\n      <td>R71RZQ9UZVG47</td>\n      <td>4</td>\n      <td>38</td>\n      <td>47</td>\n      <td>Y</td>\n      <td>N</td>\n    </tr>\n    <tr>\n      <th>16942</th>\n      <td>R38NMQBH88HLM6</td>\n      <td>4</td>\n      <td>18</td>\n      <td>24</td>\n      <td>Y</td>\n      <td>N</td>\n    </tr>\n    <tr>\n      <th>...</th>\n      <td>...</td>\n      <td>...</td>\n      <td>...</td>\n      <td>...</td>\n      <td>...</td>\n      <td>...</td>\n    </tr>\n    <tr>\n      <th>763326</th>\n      <td>R2QLL1VI9MRY2W</td>\n      <td>4</td>\n      <td>768</td>\n      <td>783</td>\n      <td>Y</td>\n      <td>N</td>\n    </tr>\n    <tr>\n      <th>763464</th>\n      <td>R15S9ONTV908AJ</td>\n      <td>4</td>\n      <td>21</td>\n      <td>24</td>\n      <td>Y</td>\n      <td>N</td>\n    </tr>\n    <tr>\n      <th>763976</th>\n      <td>R3E85BMKO2AWUP</td>\n      <td>4</td>\n      <td>155</td>\n      <td>177</td>\n      <td>Y</td>\n      <td>N</td>\n    </tr>\n    <tr>\n      <th>764209</th>\n      <td>RGNC5HFA9IZ5V</td>\n      <td>5</td>\n      <td>59</td>\n      <td>63</td>\n      <td>Y</td>\n      <td>N</td>\n    </tr>\n    <tr>\n      <th>764564</th>\n      <td>R142W0FDRAM7WE</td>\n      <td>5</td>\n      <td>99</td>\n      <td>111</td>\n      <td>Y</td>\n      <td>N</td>\n    </tr>\n  </tbody>\n</table>\n<p>136 rows × 6 columns</p>\n</div>"
     },
     "metadata": {},
     "execution_count": 9
    }
   ],
   "source": [
    "# Filter helpful reviews to show only paid vine users reviews\n",
    "paid_vine_df = helpful_vine_df[(helpful_vine_df.vine == 'Y')]\n",
    "paid_vine_df"
   ]
  },
  {
   "cell_type": "code",
   "execution_count": 10,
   "metadata": {},
   "outputs": [
    {
     "output_type": "execute_result",
     "data": {
      "text/plain": [
       "             review_id  star_rating  helpful_votes  total_votes vine  \\\n",
       "73       RL8D0KJ0J9L0O            5            152          165    N   \n",
       "157     R1BEINAIQFBRJC            5             21           23    N   \n",
       "190     R2L59KIJH302P9            4             26           26    N   \n",
       "221      RR99CPG695T0I            5            215          248    N   \n",
       "237     R1XQNKKUPCMWVO            5             43           44    N   \n",
       "...                ...          ...            ...          ...  ...   \n",
       "792079  R1HWY1Z29N8XUU            4             29           30    N   \n",
       "792086  R1OBNEXHLWO188            5             59           59    N   \n",
       "792091   R3A76JWPT014A            5             31           35    N   \n",
       "792101   R15YY6Z5KN7F9            5             44           45    N   \n",
       "792108  R1F7BNIK2R72ZC            5             21           21    N   \n",
       "\n",
       "       verified_purchase  \n",
       "73                     Y  \n",
       "157                    Y  \n",
       "190                    Y  \n",
       "221                    N  \n",
       "237                    Y  \n",
       "...                  ...  \n",
       "792079                 N  \n",
       "792086                 Y  \n",
       "792091                 N  \n",
       "792101                 N  \n",
       "792108                 N  \n",
       "\n",
       "[18019 rows x 6 columns]"
      ],
      "text/html": "<div>\n<style scoped>\n    .dataframe tbody tr th:only-of-type {\n        vertical-align: middle;\n    }\n\n    .dataframe tbody tr th {\n        vertical-align: top;\n    }\n\n    .dataframe thead th {\n        text-align: right;\n    }\n</style>\n<table border=\"1\" class=\"dataframe\">\n  <thead>\n    <tr style=\"text-align: right;\">\n      <th></th>\n      <th>review_id</th>\n      <th>star_rating</th>\n      <th>helpful_votes</th>\n      <th>total_votes</th>\n      <th>vine</th>\n      <th>verified_purchase</th>\n    </tr>\n  </thead>\n  <tbody>\n    <tr>\n      <th>73</th>\n      <td>RL8D0KJ0J9L0O</td>\n      <td>5</td>\n      <td>152</td>\n      <td>165</td>\n      <td>N</td>\n      <td>Y</td>\n    </tr>\n    <tr>\n      <th>157</th>\n      <td>R1BEINAIQFBRJC</td>\n      <td>5</td>\n      <td>21</td>\n      <td>23</td>\n      <td>N</td>\n      <td>Y</td>\n    </tr>\n    <tr>\n      <th>190</th>\n      <td>R2L59KIJH302P9</td>\n      <td>4</td>\n      <td>26</td>\n      <td>26</td>\n      <td>N</td>\n      <td>Y</td>\n    </tr>\n    <tr>\n      <th>221</th>\n      <td>RR99CPG695T0I</td>\n      <td>5</td>\n      <td>215</td>\n      <td>248</td>\n      <td>N</td>\n      <td>N</td>\n    </tr>\n    <tr>\n      <th>237</th>\n      <td>R1XQNKKUPCMWVO</td>\n      <td>5</td>\n      <td>43</td>\n      <td>44</td>\n      <td>N</td>\n      <td>Y</td>\n    </tr>\n    <tr>\n      <th>...</th>\n      <td>...</td>\n      <td>...</td>\n      <td>...</td>\n      <td>...</td>\n      <td>...</td>\n      <td>...</td>\n    </tr>\n    <tr>\n      <th>792079</th>\n      <td>R1HWY1Z29N8XUU</td>\n      <td>4</td>\n      <td>29</td>\n      <td>30</td>\n      <td>N</td>\n      <td>N</td>\n    </tr>\n    <tr>\n      <th>792086</th>\n      <td>R1OBNEXHLWO188</td>\n      <td>5</td>\n      <td>59</td>\n      <td>59</td>\n      <td>N</td>\n      <td>Y</td>\n    </tr>\n    <tr>\n      <th>792091</th>\n      <td>R3A76JWPT014A</td>\n      <td>5</td>\n      <td>31</td>\n      <td>35</td>\n      <td>N</td>\n      <td>N</td>\n    </tr>\n    <tr>\n      <th>792101</th>\n      <td>R15YY6Z5KN7F9</td>\n      <td>5</td>\n      <td>44</td>\n      <td>45</td>\n      <td>N</td>\n      <td>N</td>\n    </tr>\n    <tr>\n      <th>792108</th>\n      <td>R1F7BNIK2R72ZC</td>\n      <td>5</td>\n      <td>21</td>\n      <td>21</td>\n      <td>N</td>\n      <td>N</td>\n    </tr>\n  </tbody>\n</table>\n<p>18019 rows × 6 columns</p>\n</div>"
     },
     "metadata": {},
     "execution_count": 10
    }
   ],
   "source": [
    "# Filter helpful reviews to show only unpaid users reviews\n",
    "unpaid_vine_df = helpful_vine_df[(helpful_vine_df.vine == 'N')]\n",
    "unpaid_vine_df"
   ]
  },
  {
   "cell_type": "code",
   "execution_count": 25,
   "metadata": {},
   "outputs": [
    {
     "output_type": "execute_result",
     "data": {
      "text/plain": [
       "136"
      ]
     },
     "metadata": {},
     "execution_count": 25
    }
   ],
   "source": [
    "# Count total number of paid reviews\n",
    "paid_num_reviews = paid_vine_df['review_id'].count()\n",
    "paid_num_reviews"
   ]
  },
  {
   "cell_type": "code",
   "execution_count": 26,
   "metadata": {},
   "outputs": [
    {
     "output_type": "execute_result",
     "data": {
      "text/plain": [
       "74"
      ]
     },
     "metadata": {},
     "execution_count": 26
    }
   ],
   "source": [
    "# Count number of 5 star paid reviews\n",
    "paid_num_5star_reviews = paid_vine_df['review_id'][(paid_vine_df.star_rating==5)].count()\n",
    "paid_num_5star_reviews"
   ]
  },
  {
   "cell_type": "code",
   "execution_count": 27,
   "metadata": {},
   "outputs": [
    {
     "output_type": "execute_result",
     "data": {
      "text/plain": [
       "54.41176470588235"
      ]
     },
     "metadata": {},
     "execution_count": 27
    }
   ],
   "source": [
    "# Calc percentage 5 star\n",
    "paid_percentage_5star = paid_num_5star_reviews/paid_num_reviews * 100\n",
    "paid_percentage_5star"
   ]
  },
  {
   "cell_type": "code",
   "execution_count": 28,
   "metadata": {},
   "outputs": [
    {
     "output_type": "execute_result",
     "data": {
      "text/plain": [
       "18019"
      ]
     },
     "metadata": {},
     "execution_count": 28
    }
   ],
   "source": [
    "# Count total number of unpaid reviews\n",
    "unpaid_num_reviews = unpaid_vine_df['review_id'].count()\n",
    "unpaid_num_reviews"
   ]
  },
  {
   "cell_type": "code",
   "execution_count": 29,
   "metadata": {},
   "outputs": [
    {
     "output_type": "execute_result",
     "data": {
      "text/plain": [
       "8482"
      ]
     },
     "metadata": {},
     "execution_count": 29
    }
   ],
   "source": [
    "# Count number of 5 star paid reviews\n",
    "unpaid_num_5star_reviews = unpaid_vine_df['review_id'][(unpaid_vine_df.star_rating==5)].count()\n",
    "unpaid_num_5star_reviews"
   ]
  },
  {
   "cell_type": "code",
   "execution_count": 30,
   "metadata": {},
   "outputs": [
    {
     "output_type": "execute_result",
     "data": {
      "text/plain": [
       "47.072534546867196"
      ]
     },
     "metadata": {},
     "execution_count": 30
    }
   ],
   "source": [
    "# Calc percentage 5 star\n",
    "unpaid_percentage_5star = unpaid_num_5star_reviews/unpaid_num_reviews * 100\n",
    "unpaid_percentage_5star"
   ]
  }
 ]
}